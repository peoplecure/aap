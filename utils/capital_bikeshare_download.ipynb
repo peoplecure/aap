{
 "cells": [
  {
   "cell_type": "markdown",
   "metadata": {},
   "source": [
    "# Capital Bikeshare"
   ]
  },
  {
   "cell_type": "code",
   "execution_count": 5,
   "metadata": {
    "collapsed": true
   },
   "outputs": [],
   "source": [
    "%matplotlib inline\n",
    "import re, os\n",
    "import matplotlib.pyplot as plt\n",
    "import numpy as np\n",
    "import pandas as pd\n",
    "import seaborn as sns; sns.set()\n",
    "from IPython.display import display"
   ]
  },
  {
   "cell_type": "code",
   "execution_count": 6,
   "metadata": {
    "collapsed": true
   },
   "outputs": [],
   "source": [
    "import sys; sys.path.insert(1, os.path.join(sys.path[0], '..'))\n",
    "from utils.bikeshare import get_bikeshare_filename, get_year_quarter_tuples, download_bikeshare_data"
   ]
  },
  {
   "cell_type": "code",
   "execution_count": 7,
   "metadata": {},
   "outputs": [
    {
     "name": "stdout",
     "output_type": "stream",
     "text": [
      "Downloading Capital Bikeshare Data for [2015, 2016] to ../data/bikeshare/\n",
      "\n",
      "Data Exists: 2015 Q1 | ../data/bikeshare/2015-Q1-cabi-trip-history-data.csv\n",
      "Data Exists: 2015 Q2 | ../data/bikeshare/2015-Q2-cabi-trip-history-data.csv\n",
      "Data Exists: 2015 Q3 | ../data/bikeshare/2015-Q3-cabi-trip-history-data.csv\n",
      "Data Exists: 2015 Q4 | ../data/bikeshare/2015-Q4-cabi-trip-history-data.csv\n",
      "Data Exists: 2016 Q1 | ../data/bikeshare/2016-Q1-cabi-trip-history-data.csv\n"
     ]
    }
   ],
   "source": [
    "years = [2015, 2016]\n",
    "data_folder = \"../data/bikeshare/\"\n",
    "os.makedirs(data_folder, exist_ok=True)\n",
    "\n",
    "print(\"Downloading Capital Bikeshare Data for {years} to {folder}\".format(years=years, folder=data_folder))\n",
    "print()\n",
    "\n",
    "for years in years:\n",
    "    download_bikeshare_years(year, data_folder)"
   ]
  },
  {
   "cell_type": "code",
   "execution_count": 8,
   "metadata": {
    "collapsed": true
   },
   "outputs": [],
   "source": [
    "df = pd.read_csv(\"../data/bikeshare/2016-Q1-cabi-trip-history-data.csv\")"
   ]
  },
  {
   "cell_type": "code",
   "execution_count": 9,
   "metadata": {},
   "outputs": [
    {
     "data": {
      "text/html": [
       "<div>\n",
       "<table border=\"1\" class=\"dataframe\">\n",
       "  <thead>\n",
       "    <tr style=\"text-align: right;\">\n",
       "      <th></th>\n",
       "      <th>Duration (ms)</th>\n",
       "      <th>Start date</th>\n",
       "      <th>End date</th>\n",
       "      <th>Start station number</th>\n",
       "      <th>Start station</th>\n",
       "      <th>End station number</th>\n",
       "      <th>End station</th>\n",
       "      <th>Bike number</th>\n",
       "      <th>Member Type</th>\n",
       "    </tr>\n",
       "  </thead>\n",
       "  <tbody>\n",
       "    <tr>\n",
       "      <th>0</th>\n",
       "      <td>301295</td>\n",
       "      <td>3/31/2016 23:59</td>\n",
       "      <td>4/1/2016 0:04</td>\n",
       "      <td>31280</td>\n",
       "      <td>11th &amp; S St NW</td>\n",
       "      <td>31506</td>\n",
       "      <td>1st &amp; Rhode Island Ave NW</td>\n",
       "      <td>W00022</td>\n",
       "      <td>Registered</td>\n",
       "    </tr>\n",
       "    <tr>\n",
       "      <th>1</th>\n",
       "      <td>557887</td>\n",
       "      <td>3/31/2016 23:59</td>\n",
       "      <td>4/1/2016 0:08</td>\n",
       "      <td>31275</td>\n",
       "      <td>New Hampshire Ave &amp; 24th St NW</td>\n",
       "      <td>31114</td>\n",
       "      <td>18th St &amp; Wyoming Ave NW</td>\n",
       "      <td>W01294</td>\n",
       "      <td>Registered</td>\n",
       "    </tr>\n",
       "    <tr>\n",
       "      <th>2</th>\n",
       "      <td>555944</td>\n",
       "      <td>3/31/2016 23:59</td>\n",
       "      <td>4/1/2016 0:08</td>\n",
       "      <td>31101</td>\n",
       "      <td>14th &amp; V St NW</td>\n",
       "      <td>31221</td>\n",
       "      <td>18th &amp; M St NW</td>\n",
       "      <td>W01416</td>\n",
       "      <td>Registered</td>\n",
       "    </tr>\n",
       "    <tr>\n",
       "      <th>3</th>\n",
       "      <td>766916</td>\n",
       "      <td>3/31/2016 23:57</td>\n",
       "      <td>4/1/2016 0:09</td>\n",
       "      <td>31226</td>\n",
       "      <td>34th St &amp; Wisconsin Ave NW</td>\n",
       "      <td>31214</td>\n",
       "      <td>17th &amp; Corcoran St NW</td>\n",
       "      <td>W01090</td>\n",
       "      <td>Registered</td>\n",
       "    </tr>\n",
       "    <tr>\n",
       "      <th>4</th>\n",
       "      <td>139656</td>\n",
       "      <td>3/31/2016 23:57</td>\n",
       "      <td>3/31/2016 23:59</td>\n",
       "      <td>31011</td>\n",
       "      <td>23rd &amp; Crystal Dr</td>\n",
       "      <td>31009</td>\n",
       "      <td>27th &amp; Crystal Dr</td>\n",
       "      <td>W21934</td>\n",
       "      <td>Registered</td>\n",
       "    </tr>\n",
       "  </tbody>\n",
       "</table>\n",
       "</div>"
      ],
      "text/plain": [
       "   Duration (ms)       Start date         End date  Start station number  \\\n",
       "0         301295  3/31/2016 23:59    4/1/2016 0:04                 31280   \n",
       "1         557887  3/31/2016 23:59    4/1/2016 0:08                 31275   \n",
       "2         555944  3/31/2016 23:59    4/1/2016 0:08                 31101   \n",
       "3         766916  3/31/2016 23:57    4/1/2016 0:09                 31226   \n",
       "4         139656  3/31/2016 23:57  3/31/2016 23:59                 31011   \n",
       "\n",
       "                    Start station  End station number  \\\n",
       "0                  11th & S St NW               31506   \n",
       "1  New Hampshire Ave & 24th St NW               31114   \n",
       "2                  14th & V St NW               31221   \n",
       "3      34th St & Wisconsin Ave NW               31214   \n",
       "4               23rd & Crystal Dr               31009   \n",
       "\n",
       "                 End station Bike number Member Type  \n",
       "0  1st & Rhode Island Ave NW      W00022  Registered  \n",
       "1   18th St & Wyoming Ave NW      W01294  Registered  \n",
       "2             18th & M St NW      W01416  Registered  \n",
       "3      17th & Corcoran St NW      W01090  Registered  \n",
       "4          27th & Crystal Dr      W21934  Registered  "
      ]
     },
     "execution_count": 9,
     "metadata": {},
     "output_type": "execute_result"
    }
   ],
   "source": [
    "df.head()"
   ]
  },
  {
   "cell_type": "code",
   "execution_count": 1,
   "metadata": {
    "collapsed": true
   },
   "outputs": [],
   "source": [
    "# df[(df.start_date.dt.dayofweek>=5)].start_date.dt.hour.value_counts().sort_index().plot()\n",
    "# df[(df.start_date.dt.dayofweek<5)].start_date.dt.hour.value_counts().sort_index().plot()"
   ]
  },
  {
   "cell_type": "code",
   "execution_count": null,
   "metadata": {
    "collapsed": true
   },
   "outputs": [],
   "source": []
  }
 ],
 "metadata": {
  "kernelspec": {
   "display_name": "Python 3",
   "language": "python",
   "name": "python3"
  },
  "language_info": {
   "codemirror_mode": {
    "name": "ipython",
    "version": 3
   },
   "file_extension": ".py",
   "mimetype": "text/x-python",
   "name": "python",
   "nbconvert_exporter": "python",
   "pygments_lexer": "ipython3",
   "version": "3.6.1"
  }
 },
 "nbformat": 4,
 "nbformat_minor": 1
}
