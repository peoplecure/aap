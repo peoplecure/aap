{
 "cells": [
  {
   "cell_type": "markdown",
   "metadata": {},
   "source": [
    "# Assignment 12 - Neural Networks image recognition\n",
    "Use both MLNN and the ConvNet to solve the following problem.\n",
    "\n",
    "1. Add random noise (i.e. `np.random.normal`) to the images in training and testing. Make sure each image gets a different noise feature added to it. Inspect by printing out an image. \n",
    "2. Compare the loss/accuracy (train, val) after N epochs for both MLNN and ConvNet with and without noise. \n",
    "3. Vary the amount of noise (multiply `np.random.normal` by a factor) and keep track of the accuracy and loss (for training and validation) and plot these results."
   ]
  },
  {
   "cell_type": "markdown",
   "metadata": {},
   "source": [
    "# Neural Networks - Image Recognition "
   ]
  },
  {
   "cell_type": "code",
   "execution_count": 1,
   "metadata": {},
   "outputs": [
    {
     "name": "stderr",
     "output_type": "stream",
     "text": [
      "Using TensorFlow backend.\n"
     ]
    }
   ],
   "source": [
    "import keras\n",
    "from keras.datasets import mnist\n",
    "from keras.models import Sequential\n",
    "from keras.optimizers import RMSprop\n",
    "from keras.layers import Dense, Dropout, Flatten\n",
    "from keras.layers import Conv2D, MaxPooling2D\n",
    "from keras import backend\n",
    "from keras import utils as np_utils\n",
    "\n",
    "import numpy as np\n",
    "import matplotlib.pyplot as plt\n",
    "%matplotlib inline"
   ]
  },
  {
   "cell_type": "markdown",
   "metadata": {},
   "source": [
    "## Multi Layer Neural Network\n",
    "Trains a simple deep NN on the MNIST dataset.\n",
    "Gets to 98.40% test accuracy after 20 epochs\n",
    "(there is *a lot* of margin for parameter tuning)."
   ]
  },
  {
   "cell_type": "code",
   "execution_count": 2,
   "metadata": {},
   "outputs": [],
   "source": [
    "# the data, shuffled and split between train and test sets\n",
    "(x_train, y_train), (x_test, y_test) = mnist.load_data()"
   ]
  },
  {
   "cell_type": "code",
   "execution_count": 3,
   "metadata": {
    "scrolled": false
   },
   "outputs": [
    {
     "data": {
      "text/plain": [
       "<matplotlib.image.AxesImage at 0x10ed86780>"
      ]
     },
     "execution_count": 3,
     "metadata": {},
     "output_type": "execute_result"
    },
    {
     "data": {
      "image/png": "[encoded data removed]",
      "text/plain": [
       "<Figure size 432x288 with 1 Axes>"
      ]
     },
     "metadata": {},
     "output_type": "display_data"
    }
   ],
   "source": [
    "plt.imshow(x_train[0])"
   ]
  },
  {
   "cell_type": "code",
   "execution_count": 4,
   "metadata": {
    "scrolled": true
   },
   "outputs": [
    {
     "name": "stdout",
     "output_type": "stream",
     "text": [
      "60000 train samples\n",
      "10000 test samples\n",
      "_________________________________________________________________\n",
      "Layer (type)                 Output Shape              Param #   \n",
      "=================================================================\n",
      "dense_1 (Dense)              (None, 512)               401920    \n",
      "_________________________________________________________________\n",
      "dropout_1 (Dropout)          (None, 512)               0         \n",
      "_________________________________________________________________\n",
      "dense_2 (Dense)              (None, 512)               262656    \n",
      "_________________________________________________________________\n",
      "dropout_2 (Dropout)          (None, 512)               0         \n",
      "_________________________________________________________________\n",
      "dense_3 (Dense)              (None, 10)                5130      \n",
      "=================================================================\n",
      "Total params: 669,706\n",
      "Trainable params: 669,706\n",
      "Non-trainable params: 0\n",
      "_________________________________________________________________\n",
      "Train on 60000 samples, validate on 10000 samples\n",
      "Epoch 1/20\n",
      "60000/60000 [==============================] - 8s 126us/step - loss: 0.2479 - acc: 0.9236 - val_loss: 0.0931 - val_acc: 0.9702\n",
      "Epoch 2/20\n",
      "60000/60000 [==============================] - 7s 118us/step - loss: 0.1023 - acc: 0.9695 - val_loss: 0.0889 - val_acc: 0.9755\n",
      "Epoch 3/20\n",
      "60000/60000 [==============================] - 7s 120us/step - loss: 0.0753 - acc: 0.9774 - val_loss: 0.0827 - val_acc: 0.9758\n",
      "Epoch 4/20\n",
      "60000/60000 [==============================] - 8s 125us/step - loss: 0.0596 - acc: 0.9826 - val_loss: 0.0707 - val_acc: 0.9800\n",
      "Epoch 5/20\n",
      "60000/60000 [==============================] - 8s 126us/step - loss: 0.0510 - acc: 0.9842 - val_loss: 0.0724 - val_acc: 0.9810\n",
      "Epoch 6/20\n",
      "60000/60000 [==============================] - 8s 126us/step - loss: 0.0437 - acc: 0.9865 - val_loss: 0.0893 - val_acc: 0.9774\n",
      "Epoch 7/20\n",
      "60000/60000 [==============================] - 9s 142us/step - loss: 0.0387 - acc: 0.9883 - val_loss: 0.0844 - val_acc: 0.9808\n",
      "Epoch 8/20\n",
      "60000/60000 [==============================] - 9s 157us/step - loss: 0.0334 - acc: 0.9902 - val_loss: 0.0932 - val_acc: 0.9798\n",
      "Epoch 9/20\n",
      "60000/60000 [==============================] - 9s 144us/step - loss: 0.0316 - acc: 0.9909 - val_loss: 0.0901 - val_acc: 0.9804\n",
      "Epoch 10/20\n",
      "60000/60000 [==============================] - 9s 147us/step - loss: 0.0310 - acc: 0.9910 - val_loss: 0.0787 - val_acc: 0.9828\n",
      "Epoch 11/20\n",
      "60000/60000 [==============================] - 10s 165us/step - loss: 0.0268 - acc: 0.9924 - val_loss: 0.0891 - val_acc: 0.9824\n",
      "Epoch 12/20\n",
      "60000/60000 [==============================] - 9s 151us/step - loss: 0.0239 - acc: 0.9930 - val_loss: 0.0918 - val_acc: 0.9846\n",
      "Epoch 13/20\n",
      "60000/60000 [==============================] - 8s 136us/step - loss: 0.0249 - acc: 0.9929 - val_loss: 0.1008 - val_acc: 0.9832\n",
      "Epoch 14/20\n",
      "60000/60000 [==============================] - 7s 124us/step - loss: 0.0217 - acc: 0.9939 - val_loss: 0.1075 - val_acc: 0.9819\n",
      "Epoch 15/20\n",
      "60000/60000 [==============================] - 8s 125us/step - loss: 0.0231 - acc: 0.9937 - val_loss: 0.1016 - val_acc: 0.9819\n",
      "Epoch 16/20\n",
      "60000/60000 [==============================] - 7s 122us/step - loss: 0.0199 - acc: 0.9941 - val_loss: 0.1213 - val_acc: 0.9811\n",
      "Epoch 17/20\n",
      "60000/60000 [==============================] - 7s 122us/step - loss: 0.0186 - acc: 0.9949 - val_loss: 0.1066 - val_acc: 0.9834\n",
      "Epoch 18/20\n",
      "60000/60000 [==============================] - 7s 123us/step - loss: 0.0191 - acc: 0.9945 - val_loss: 0.1199 - val_acc: 0.9816\n",
      "Epoch 19/20\n",
      "60000/60000 [==============================] - 7s 123us/step - loss: 0.0176 - acc: 0.9953 - val_loss: 0.1103 - val_acc: 0.9833\n",
      "Epoch 20/20\n",
      "60000/60000 [==============================] - 7s 122us/step - loss: 0.0179 - acc: 0.9953 - val_loss: 0.1064 - val_acc: 0.9837\n",
      "Test loss: 0.10639518911132022\n",
      "Test accuracy: 0.9837\n"
     ]
    },
    {
     "data": {
      "image/png": "[encoded data removed]",
      "text/plain": [
       "<Figure size 432x288 with 1 Axes>"
      ]
     },
     "metadata": {},
     "output_type": "display_data"
    }
   ],
   "source": [
    "# Graph without noise\n",
    "(x_train, y_train), (x_test, y_test) = mnist.load_data()\n",
    "\n",
    "x_train = x_train.reshape(60000, 784)\n",
    "x_test = x_test.reshape(10000, 784)\n",
    "x_train = x_train.astype('float32')\n",
    "x_test = x_test.astype('float32')\n",
    "x_train /= 255\n",
    "x_test /= 255\n",
    "print(x_train.shape[0], 'train samples')\n",
    "print(x_test.shape[0], 'test samples')\n",
    "\n",
    "batch_size = 128\n",
    "num_classes = 10\n",
    "epochs = 20\n",
    "\n",
    "# convert class vectors to binary class matrices\n",
    "y_train = keras.utils.to_categorical(y_train, num_classes)\n",
    "y_test = keras.utils.to_categorical(y_test, num_classes)\n",
    "\n",
    "model = Sequential()\n",
    "model.add(Dense(512, activation='relu', input_shape=(784,)))\n",
    "model.add(Dropout(0.2))\n",
    "model.add(Dense(512, activation='relu'))\n",
    "model.add(Dropout(0.2))\n",
    "model.add(Dense(10, activation='softmax'))\n",
    "\n",
    "model.summary()\n",
    "\n",
    "model.compile(loss='categorical_crossentropy',\n",
    "              optimizer=RMSprop(),\n",
    "              metrics=['accuracy'])\n",
    "\n",
    "history = model.fit(x_train, y_train,\n",
    "                    batch_size=batch_size,\n",
    "                    epochs=epochs,\n",
    "                    verbose=1,\n",
    "                    validation_data=(x_test, y_test))\n",
    "score = model.evaluate(x_test, y_test, verbose=0)\n",
    "print('Test loss:', score[0])\n",
    "print('Test accuracy:', score[1])\n",
    "\n",
    "# Get training and test loss histories\n",
    "training_loss = history.history['loss']\n",
    "test_loss = history.history['val_loss']\n",
    "\n",
    "# Create count of the number of epochs\n",
    "epoch_count = range(1, len(training_loss) + 1)\n",
    "\n",
    "# Visualize loss history\n",
    "plt.plot(epoch_count, training_loss, 'r--')\n",
    "plt.plot(epoch_count, test_loss, 'b-')\n",
    "plt.legend(['Training Loss', 'Test Loss'])\n",
    "plt.xlabel('Epoch')\n",
    "plt.ylabel('Loss')\n",
    "plt.show();"
   ]
  },
  {
   "cell_type": "code",
   "execution_count": null,
   "metadata": {},
   "outputs": [],
   "source": [
    "# 98.37% accuracy"
   ]
  },
  {
   "cell_type": "code",
   "execution_count": 5,
   "metadata": {},
   "outputs": [
    {
     "data": {
      "text/plain": [
       "<matplotlib.image.AxesImage at 0xb28b30d68>"
      ]
     },
     "execution_count": 5,
     "metadata": {},
     "output_type": "execute_result"
    },
    {
     "data": {
      "image/png": "[encoded data removed]",
      "text/plain": [
       "<Figure size 432x288 with 1 Axes>"
      ]
     },
     "metadata": {},
     "output_type": "display_data"
    }
   ],
   "source": [
    "# Noise sigma = 10\n",
    "(x_train, y_train), (x_test, y_test) = mnist.load_data()\n",
    "\n",
    "# x_train values after the noise\n",
    "mu, sigma = 0, 10\n",
    "noise = np.random.normal(mu, sigma, [28,28]) \n",
    "x_train = x_train - noise\n",
    "\n",
    "plt.imshow(x_train[0])"
   ]
  },
  {
   "cell_type": "code",
   "execution_count": 6,
   "metadata": {
    "scrolled": true
   },
   "outputs": [
    {
     "name": "stdout",
     "output_type": "stream",
     "text": [
      "_________________________________________________________________\n",
      "Layer (type)                 Output Shape              Param #   \n",
      "=================================================================\n",
      "dense_4 (Dense)              (None, 512)               401920    \n",
      "_________________________________________________________________\n",
      "dropout_3 (Dropout)          (None, 512)               0         \n",
      "_________________________________________________________________\n",
      "dense_5 (Dense)              (None, 512)               262656    \n",
      "_________________________________________________________________\n",
      "dropout_4 (Dropout)          (None, 512)               0         \n",
      "_________________________________________________________________\n",
      "dense_6 (Dense)              (None, 10)                5130      \n",
      "=================================================================\n",
      "Total params: 669,706\n",
      "Trainable params: 669,706\n",
      "Non-trainable params: 0\n",
      "_________________________________________________________________\n",
      "Train on 60000 samples, validate on 10000 samples\n",
      "Epoch 1/20\n",
      "60000/60000 [==============================] - 8s 131us/step - loss: 0.2603 - acc: 0.9196 - val_loss: 0.1227 - val_acc: 0.9607\n",
      "Epoch 2/20\n",
      "60000/60000 [==============================] - 7s 119us/step - loss: 0.1087 - acc: 0.9670 - val_loss: 0.0901 - val_acc: 0.9738\n",
      "Epoch 3/20\n",
      "60000/60000 [==============================] - 7s 122us/step - loss: 0.0806 - acc: 0.9760 - val_loss: 0.0887 - val_acc: 0.9751\n",
      "Epoch 4/20\n",
      "60000/60000 [==============================] - 7s 123us/step - loss: 0.0648 - acc: 0.9815 - val_loss: 0.1050 - val_acc: 0.9770\n",
      "Epoch 5/20\n",
      "60000/60000 [==============================] - 8s 127us/step - loss: 0.0551 - acc: 0.9834 - val_loss: 0.1129 - val_acc: 0.9771\n",
      "Epoch 6/20\n",
      "60000/60000 [==============================] - 8s 127us/step - loss: 0.0472 - acc: 0.9857 - val_loss: 0.1082 - val_acc: 0.9795\n",
      "Epoch 7/20\n",
      "60000/60000 [==============================] - 7s 123us/step - loss: 0.0427 - acc: 0.9874 - val_loss: 0.1308 - val_acc: 0.9775\n",
      "Epoch 8/20\n",
      "60000/60000 [==============================] - 8s 128us/step - loss: 0.0383 - acc: 0.9888 - val_loss: 0.1433 - val_acc: 0.9771\n",
      "Epoch 9/20\n",
      "60000/60000 [==============================] - 7s 121us/step - loss: 0.0355 - acc: 0.9898 - val_loss: 0.1482 - val_acc: 0.9784\n",
      "Epoch 10/20\n",
      "60000/60000 [==============================] - 7s 121us/step - loss: 0.0352 - acc: 0.9904 - val_loss: 0.1892 - val_acc: 0.9758\n",
      "Epoch 11/20\n",
      "60000/60000 [==============================] - 7s 121us/step - loss: 0.0336 - acc: 0.9908 - val_loss: 0.2136 - val_acc: 0.9745\n",
      "Epoch 12/20\n",
      "60000/60000 [==============================] - 7s 121us/step - loss: 0.0308 - acc: 0.9919 - val_loss: 0.2124 - val_acc: 0.9753\n",
      "Epoch 13/20\n",
      "60000/60000 [==============================] - 7s 122us/step - loss: 0.0305 - acc: 0.9920 - val_loss: 0.2487 - val_acc: 0.9743\n",
      "Epoch 14/20\n",
      "60000/60000 [==============================] - 7s 123us/step - loss: 0.0291 - acc: 0.9923 - val_loss: 0.2298 - val_acc: 0.9747\n",
      "Epoch 15/20\n",
      "60000/60000 [==============================] - 7s 123us/step - loss: 0.0268 - acc: 0.9931 - val_loss: 0.2541 - val_acc: 0.9756\n",
      "Epoch 16/20\n",
      "60000/60000 [==============================] - 8s 126us/step - loss: 0.0272 - acc: 0.9930 - val_loss: 0.2525 - val_acc: 0.9749\n",
      "Epoch 17/20\n",
      "60000/60000 [==============================] - 8s 131us/step - loss: 0.0253 - acc: 0.9935 - val_loss: 0.2692 - val_acc: 0.9735\n",
      "Epoch 18/20\n",
      "60000/60000 [==============================] - 8s 126us/step - loss: 0.0269 - acc: 0.9934 - val_loss: 0.3522 - val_acc: 0.9690\n",
      "Epoch 19/20\n",
      "60000/60000 [==============================] - 7s 125us/step - loss: 0.0284 - acc: 0.9934 - val_loss: 0.2649 - val_acc: 0.9749\n",
      "Epoch 20/20\n",
      "60000/60000 [==============================] - 8s 130us/step - loss: 0.0264 - acc: 0.9938 - val_loss: 0.3494 - val_acc: 0.9691\n"
     ]
    },
    {
     "data": {
      "image/png": "[encoded data removed]",
      "text/plain": [
       "<Figure size 432x288 with 1 Axes>"
      ]
     },
     "metadata": {},
     "output_type": "display_data"
    }
   ],
   "source": [
    "x_train = x_train.reshape(60000, 784)\n",
    "x_test = x_test.reshape(10000, 784)\n",
    "x_train = x_train.astype('float32')\n",
    "x_test = x_test.astype('float32')\n",
    "x_train /= 255\n",
    "x_test /= 255\n",
    "\n",
    "# convert class vectors to binary class matrices\n",
    "y_train = keras.utils.to_categorical(y_train, num_classes)\n",
    "y_test = keras.utils.to_categorical(y_test, num_classes)\n",
    "\n",
    "batch_size = 128\n",
    "num_classes = 10\n",
    "epochs = 20\n",
    "\n",
    "model = Sequential()\n",
    "model.add(Dense(512, activation='relu', input_shape=(784,)))\n",
    "model.add(Dropout(0.2))\n",
    "model.add(Dense(512, activation='relu'))\n",
    "model.add(Dropout(0.2))\n",
    "model.add(Dense(10, activation='softmax'))\n",
    "\n",
    "model.summary()\n",
    "\n",
    "model.compile(loss='categorical_crossentropy',\n",
    "              optimizer=RMSprop(),\n",
    "              metrics=['accuracy'])\n",
    "\n",
    "history = model.fit(x_train, y_train,\n",
    "                    batch_size=batch_size,\n",
    "                    epochs=epochs,\n",
    "                    verbose=1,\n",
    "                    validation_data=(x_test, y_test))\n",
    "\n",
    "# Get training and test loss histories\n",
    "training_loss = history.history['loss']\n",
    "test_loss = history.history['val_loss']\n",
    "\n",
    "# Create count of the number of epochs\n",
    "epoch_count = range(1, len(training_loss) + 1)\n",
    "\n",
    "# Visualize loss history\n",
    "plt.plot(epoch_count, training_loss, 'r--')\n",
    "plt.plot(epoch_count, test_loss, 'b-')\n",
    "plt.legend(['Training Loss', 'Test Loss'])\n",
    "plt.xlabel('Epoch')\n",
    "plt.ylabel('Loss')\n",
    "plt.show();"
   ]
  },
  {
   "cell_type": "code",
   "execution_count": null,
   "metadata": {},
   "outputs": [],
   "source": [
    "# 96.91 percent accuracy "
   ]
  },
  {
   "cell_type": "code",
   "execution_count": 8,
   "metadata": {},
   "outputs": [
    {
     "data": {
      "text/plain": [
       "<matplotlib.image.AxesImage at 0xb29240e10>"
      ]
     },
     "execution_count": 8,
     "metadata": {},
     "output_type": "execute_result"
    },
    {
     "data": {
      "image/png": "[encoded data removed]",
      "text/plain": [
       "<Figure size 432x288 with 1 Axes>"
      ]
     },
     "metadata": {},
     "output_type": "display_data"
    }
   ],
   "source": [
    "(x_train, y_train), (x_test, y_test) = mnist.load_data()\n",
    "mu, sigma = 0, 50\n",
    "noise = np.random.normal(mu, sigma, [28,28]) \n",
    "x_train = x_train - noise\n",
    "x_train[0]\n",
    "plt.imshow(x_train[0])"
   ]
  },
  {
   "cell_type": "code",
   "execution_count": 9,
   "metadata": {
    "scrolled": true
   },
   "outputs": [
    {
     "name": "stdout",
     "output_type": "stream",
     "text": [
      "_________________________________________________________________\n",
      "Layer (type)                 Output Shape              Param #   \n",
      "=================================================================\n",
      "dense_7 (Dense)              (None, 512)               401920    \n",
      "_________________________________________________________________\n",
      "dropout_5 (Dropout)          (None, 512)               0         \n",
      "_________________________________________________________________\n",
      "dense_8 (Dense)              (None, 512)               262656    \n",
      "_________________________________________________________________\n",
      "dropout_6 (Dropout)          (None, 512)               0         \n",
      "_________________________________________________________________\n",
      "dense_9 (Dense)              (None, 10)                5130      \n",
      "=================================================================\n",
      "Total params: 669,706\n",
      "Trainable params: 669,706\n",
      "Non-trainable params: 0\n",
      "_________________________________________________________________\n",
      "Train on 60000 samples, validate on 10000 samples\n",
      "Epoch 1/20\n",
      "60000/60000 [==============================] - 9s 152us/step - loss: 0.3090 - acc: 0.9022 - val_loss: 0.1565 - val_acc: 0.9512\n",
      "Epoch 2/20\n",
      "60000/60000 [==============================] - 8s 137us/step - loss: 0.1346 - acc: 0.9590 - val_loss: 0.1192 - val_acc: 0.9649\n",
      "Epoch 3/20\n",
      "60000/60000 [==============================] - 7s 120us/step - loss: 0.1017 - acc: 0.9685 - val_loss: 0.1092 - val_acc: 0.9726\n",
      "Epoch 4/20\n",
      "60000/60000 [==============================] - 7s 120us/step - loss: 0.0871 - acc: 0.9739 - val_loss: 0.1599 - val_acc: 0.9690\n",
      "Epoch 5/20\n",
      "60000/60000 [==============================] - 7s 125us/step - loss: 0.0784 - acc: 0.9768 - val_loss: 0.1512 - val_acc: 0.9732\n",
      "Epoch 6/20\n",
      "60000/60000 [==============================] - 7s 125us/step - loss: 0.0722 - acc: 0.9792 - val_loss: 0.1926 - val_acc: 0.9708\n",
      "Epoch 7/20\n",
      "60000/60000 [==============================] - 8s 131us/step - loss: 0.0670 - acc: 0.9807 - val_loss: 0.2819 - val_acc: 0.9643\n",
      "Epoch 8/20\n",
      "60000/60000 [==============================] - 8s 128us/step - loss: 0.0617 - acc: 0.9824 - val_loss: 0.2777 - val_acc: 0.9680\n",
      "Epoch 9/20\n",
      "60000/60000 [==============================] - 8s 130us/step - loss: 0.0610 - acc: 0.9833 - val_loss: 0.3299 - val_acc: 0.9661\n",
      "Epoch 10/20\n",
      "60000/60000 [==============================] - 8s 133us/step - loss: 0.0592 - acc: 0.9842 - val_loss: 0.4822 - val_acc: 0.9523\n",
      "Epoch 11/20\n",
      "60000/60000 [==============================] - 8s 135us/step - loss: 0.0593 - acc: 0.9848 - val_loss: 0.4062 - val_acc: 0.9620\n",
      "Epoch 12/20\n",
      "60000/60000 [==============================] - 8s 136us/step - loss: 0.0549 - acc: 0.9852 - val_loss: 0.4318 - val_acc: 0.9602\n",
      "Epoch 13/20\n",
      "60000/60000 [==============================] - 8s 138us/step - loss: 0.0558 - acc: 0.9862 - val_loss: 0.4089 - val_acc: 0.9634\n",
      "Epoch 14/20\n",
      "60000/60000 [==============================] - 8s 133us/step - loss: 0.0471 - acc: 0.9877 - val_loss: 0.4923 - val_acc: 0.9586\n",
      "Epoch 15/20\n",
      "60000/60000 [==============================] - 8s 131us/step - loss: 0.0528 - acc: 0.9873 - val_loss: 0.5097 - val_acc: 0.9577\n",
      "Epoch 16/20\n",
      "60000/60000 [==============================] - 8s 131us/step - loss: 0.0509 - acc: 0.9878 - val_loss: 0.5681 - val_acc: 0.9529\n",
      "Epoch 17/20\n",
      "60000/60000 [==============================] - 8s 131us/step - loss: 0.0488 - acc: 0.9880 - val_loss: 0.4779 - val_acc: 0.9607\n",
      "Epoch 18/20\n",
      "60000/60000 [==============================] - 8s 136us/step - loss: 0.0499 - acc: 0.9879 - val_loss: 0.4740 - val_acc: 0.9615\n",
      "Epoch 19/20\n",
      "60000/60000 [==============================] - 8s 128us/step - loss: 0.0496 - acc: 0.9882 - val_loss: 0.4874 - val_acc: 0.9611\n",
      "Epoch 20/20\n",
      "60000/60000 [==============================] - 8s 126us/step - loss: 0.0495 - acc: 0.9883 - val_loss: 0.5728 - val_acc: 0.9564\n"
     ]
    },
    {
     "data": {
      "image/png": "[encoded data removed]",
      "text/plain": [
       "<Figure size 432x288 with 1 Axes>"
      ]
     },
     "metadata": {},
     "output_type": "display_data"
    }
   ],
   "source": [
    "x_train = x_train.reshape(60000, 784)\n",
    "x_test = x_test.reshape(10000, 784)\n",
    "x_train = x_train.astype('float32')\n",
    "x_test = x_test.astype('float32')\n",
    "x_train /= 255\n",
    "x_test /= 255\n",
    "\n",
    "# convert class vectors to binary class matrices\n",
    "y_train = keras.utils.to_categorical(y_train, num_classes)\n",
    "y_test = keras.utils.to_categorical(y_test, num_classes)\n",
    "\n",
    "batch_size = 128\n",
    "num_classes = 10\n",
    "epochs = 20\n",
    "\n",
    "model = Sequential()\n",
    "model.add(Dense(512, activation='relu', input_shape=(784,)))\n",
    "model.add(Dropout(0.2))\n",
    "model.add(Dense(512, activation='relu'))\n",
    "model.add(Dropout(0.2))\n",
    "model.add(Dense(10, activation='softmax'))\n",
    "\n",
    "model.summary()\n",
    "\n",
    "model.compile(loss='categorical_crossentropy',\n",
    "              optimizer=RMSprop(),\n",
    "              metrics=['accuracy'])\n",
    "\n",
    "history = model.fit(x_train, y_train,\n",
    "                    batch_size=batch_size,\n",
    "                    epochs=epochs,\n",
    "                    verbose=1,\n",
    "                    validation_data=(x_test, y_test))\n",
    "\n",
    "# Get training and test loss histories\n",
    "training_loss = history.history['loss']\n",
    "test_loss = history.history['val_loss']\n",
    "\n",
    "# Create count of the number of epochs\n",
    "epoch_count = range(1, len(training_loss) + 1)\n",
    "\n",
    "# Visualize loss history\n",
    "plt.plot(epoch_count, training_loss, 'r--')\n",
    "plt.plot(epoch_count, test_loss, 'b-')\n",
    "plt.legend(['Training Loss', 'Test Loss'])\n",
    "plt.xlabel('Epoch')\n",
    "plt.ylabel('Loss')\n",
    "plt.show();"
   ]
  },
  {
   "cell_type": "code",
   "execution_count": null,
   "metadata": {},
   "outputs": [],
   "source": [
    "# 95.64 percent accuracy"
   ]
  },
  {
   "cell_type": "code",
   "execution_count": 12,
   "metadata": {},
   "outputs": [
    {
     "data": {
      "text/plain": [
       "<matplotlib.image.AxesImage at 0xb2a907518>"
      ]
     },
     "execution_count": 12,
     "metadata": {},
     "output_type": "execute_result"
    },
    {
     "data": {
      "image/png": "[encoded data removed]",
      "text/plain": [
       "<Figure size 432x288 with 1 Axes>"
      ]
     },
     "metadata": {},
     "output_type": "display_data"
    }
   ],
   "source": [
    "(x_train, y_train), (x_test, y_test) = mnist.load_data()\n",
    "mu, sigma = 0, 99\n",
    "noise = np.random.normal(mu, sigma, [28,28]) \n",
    "x_train = x_train - noise\n",
    "x_train[0]\n",
    "plt.imshow(x_train[0])"
   ]
  },
  {
   "cell_type": "code",
   "execution_count": 13,
   "metadata": {
    "scrolled": true
   },
   "outputs": [
    {
     "name": "stdout",
     "output_type": "stream",
     "text": [
      "_________________________________________________________________\n",
      "Layer (type)                 Output Shape              Param #   \n",
      "=================================================================\n",
      "dense_10 (Dense)             (None, 512)               401920    \n",
      "_________________________________________________________________\n",
      "dropout_7 (Dropout)          (None, 512)               0         \n",
      "_________________________________________________________________\n",
      "dense_11 (Dense)             (None, 512)               262656    \n",
      "_________________________________________________________________\n",
      "dropout_8 (Dropout)          (None, 512)               0         \n",
      "_________________________________________________________________\n",
      "dense_12 (Dense)             (None, 10)                5130      \n",
      "=================================================================\n",
      "Total params: 669,706\n",
      "Trainable params: 669,706\n",
      "Non-trainable params: 0\n",
      "_________________________________________________________________\n",
      "Train on 60000 samples, validate on 10000 samples\n",
      "Epoch 1/20\n",
      "60000/60000 [==============================] - 8s 134us/step - loss: 0.4268 - acc: 0.8630 - val_loss: 0.2907 - val_acc: 0.9067\n",
      "Epoch 2/20\n",
      "60000/60000 [==============================] - 7s 116us/step - loss: 0.1871 - acc: 0.9421 - val_loss: 0.1934 - val_acc: 0.9430\n",
      "Epoch 3/20\n",
      "60000/60000 [==============================] - 7s 119us/step - loss: 0.1456 - acc: 0.9556 - val_loss: 0.1252 - val_acc: 0.9655\n",
      "Epoch 4/20\n",
      "60000/60000 [==============================] - 8s 126us/step - loss: 0.1228 - acc: 0.9621 - val_loss: 0.1378 - val_acc: 0.9670\n",
      "Epoch 5/20\n",
      "60000/60000 [==============================] - 8s 126us/step - loss: 0.1105 - acc: 0.9673 - val_loss: 0.1783 - val_acc: 0.9670\n",
      "Epoch 6/20\n",
      "60000/60000 [==============================] - 8s 127us/step - loss: 0.1029 - acc: 0.9692 - val_loss: 0.1875 - val_acc: 0.9708\n",
      "Epoch 7/20\n",
      "60000/60000 [==============================] - 8s 128us/step - loss: 0.0985 - acc: 0.9711 - val_loss: 0.2675 - val_acc: 0.9628\n",
      "Epoch 8/20\n",
      "60000/60000 [==============================] - 8s 129us/step - loss: 0.0951 - acc: 0.9729 - val_loss: 0.2966 - val_acc: 0.9647\n",
      "Epoch 9/20\n",
      "60000/60000 [==============================] - 8s 129us/step - loss: 0.0914 - acc: 0.9740 - val_loss: 0.3075 - val_acc: 0.9650\n",
      "Epoch 10/20\n",
      "60000/60000 [==============================] - 8s 129us/step - loss: 0.0873 - acc: 0.9756 - val_loss: 0.3507 - val_acc: 0.9644\n",
      "Epoch 11/20\n",
      "60000/60000 [==============================] - 8s 128us/step - loss: 0.0864 - acc: 0.9756 - val_loss: 0.3601 - val_acc: 0.9649\n",
      "Epoch 12/20\n",
      "60000/60000 [==============================] - 8s 132us/step - loss: 0.0865 - acc: 0.9764 - val_loss: 0.4228 - val_acc: 0.9597\n",
      "Epoch 13/20\n",
      "60000/60000 [==============================] - 8s 133us/step - loss: 0.0878 - acc: 0.9761 - val_loss: 0.4460 - val_acc: 0.9599\n",
      "Epoch 14/20\n",
      "60000/60000 [==============================] - 8s 133us/step - loss: 0.0839 - acc: 0.9776 - val_loss: 0.4514 - val_acc: 0.9602\n",
      "Epoch 15/20\n",
      "60000/60000 [==============================] - 8s 135us/step - loss: 0.0849 - acc: 0.9777 - val_loss: 0.4939 - val_acc: 0.9587\n",
      "Epoch 16/20\n",
      "60000/60000 [==============================] - 8s 133us/step - loss: 0.0819 - acc: 0.9783 - val_loss: 0.5901 - val_acc: 0.9518\n",
      "Epoch 17/20\n",
      "60000/60000 [==============================] - 8s 135us/step - loss: 0.0824 - acc: 0.9788 - val_loss: 0.5183 - val_acc: 0.9600\n",
      "Epoch 18/20\n",
      "60000/60000 [==============================] - 8s 129us/step - loss: 0.0816 - acc: 0.9792 - val_loss: 0.5562 - val_acc: 0.9563\n",
      "Epoch 19/20\n",
      "60000/60000 [==============================] - 8s 134us/step - loss: 0.0858 - acc: 0.9794 - val_loss: 0.5820 - val_acc: 0.9539\n",
      "Epoch 20/20\n",
      "60000/60000 [==============================] - 8s 128us/step - loss: 0.0844 - acc: 0.9795 - val_loss: 0.5574 - val_acc: 0.9561\n"
     ]
    },
    {
     "data": {
      "image/png": "[encoded data removed]",
      "text/plain": [
       "<Figure size 432x288 with 1 Axes>"
      ]
     },
     "metadata": {},
     "output_type": "display_data"
    }
   ],
   "source": [
    "x_train = x_train.reshape(60000, 784)\n",
    "x_test = x_test.reshape(10000, 784)\n",
    "x_train = x_train.astype('float32')\n",
    "x_test = x_test.astype('float32')\n",
    "x_train /= 255\n",
    "x_test /= 255\n",
    "\n",
    "# convert class vectors to binary class matrices\n",
    "y_train = keras.utils.to_categorical(y_train, num_classes)\n",
    "y_test = keras.utils.to_categorical(y_test, num_classes)\n",
    "\n",
    "batch_size = 128\n",
    "num_classes = 10\n",
    "epochs = 20\n",
    "\n",
    "model = Sequential()\n",
    "model.add(Dense(512, activation='relu', input_shape=(784,)))\n",
    "model.add(Dropout(0.2))\n",
    "model.add(Dense(512, activation='relu'))\n",
    "model.add(Dropout(0.2))\n",
    "model.add(Dense(10, activation='softmax'))\n",
    "\n",
    "model.summary()\n",
    "\n",
    "model.compile(loss='categorical_crossentropy',\n",
    "              optimizer=RMSprop(),\n",
    "              metrics=['accuracy'])\n",
    "\n",
    "history = model.fit(x_train, y_train,\n",
    "                    batch_size=batch_size,\n",
    "                    epochs=epochs,\n",
    "                    verbose=1,\n",
    "                    validation_data=(x_test, y_test))\n",
    "\n",
    "# Get training and test loss histories\n",
    "training_loss = history.history['loss']\n",
    "test_loss = history.history['val_loss']\n",
    "\n",
    "# Create count of the number of epochs\n",
    "epoch_count = range(1, len(training_loss) + 1)\n",
    "\n",
    "# Visualize loss history\n",
    "plt.plot(epoch_count, training_loss, 'r--')\n",
    "plt.plot(epoch_count, test_loss, 'b-')\n",
    "plt.legend(['Training Loss', 'Test Loss'])\n",
    "plt.xlabel('Epoch')\n",
    "plt.ylabel('Loss')\n",
    "plt.show();"
   ]
  },
  {
   "cell_type": "markdown",
   "metadata": {},
   "source": [
    "## Conv Net\n",
    "Trains a simple convnet on the MNIST dataset.\n",
    "Gets to 99.25% test accuracy after 12 epochs\n",
    "(there is still a lot of margin for parameter tuning).\n"
   ]
  },
  {
   "cell_type": "code",
   "execution_count": 14,
   "metadata": {
    "scrolled": true
   },
   "outputs": [
    {
     "name": "stdout",
     "output_type": "stream",
     "text": [
      "x_train shape: (60000, 28, 28, 1)\n",
      "60000 train samples\n",
      "10000 test samples\n"
     ]
    }
   ],
   "source": [
    "# input image dimensions\n",
    "img_rows, img_cols = 28, 28\n",
    "\n",
    "# the data, shuffled and split between train and test sets\n",
    "(x_train, y_train), (x_test, y_test) = mnist.load_data()\n",
    "\n",
    "if backend.image_data_format() == 'channels_first':\n",
    "    x_train = x_train.reshape(x_train.shape[0], 1, img_rows, img_cols)\n",
    "    x_test = x_test.reshape(x_test.shape[0], 1, img_rows, img_cols)\n",
    "    input_shape = (1, img_rows, img_cols)\n",
    "else:\n",
    "    x_train = x_train.reshape(x_train.shape[0], img_rows, img_cols, 1)\n",
    "    x_test = x_test.reshape(x_test.shape[0], img_rows, img_cols, 1)\n",
    "    input_shape = (img_rows, img_cols, 1)\n",
    "\n",
    "x_train = x_train.astype('float32')\n",
    "x_test = x_test.astype('float32')\n",
    "x_train /= 255\n",
    "x_test /= 255\n",
    "print('x_train shape:', x_train.shape)\n",
    "print(x_train.shape[0], 'train samples')\n",
    "print(x_test.shape[0], 'test samples')"
   ]
  },
  {
   "cell_type": "code",
   "execution_count": 15,
   "metadata": {},
   "outputs": [],
   "source": [
    "# convert class vectors to binary class matrices\n",
    "y_train = keras.utils.to_categorical(y_train, num_classes)\n",
    "y_test = keras.utils.to_categorical(y_test, num_classes)"
   ]
  },
  {
   "cell_type": "code",
   "execution_count": 18,
   "metadata": {
    "scrolled": false
   },
   "outputs": [
    {
     "name": "stdout",
     "output_type": "stream",
     "text": [
      "Train on 60000 samples, validate on 10000 samples\n",
      "Epoch 1/2\n",
      "60000/60000 [==============================] - 151s 3ms/step - loss: 0.2123 - acc: 0.9348 - val_loss: 0.0459 - val_acc: 0.9856\n",
      "Epoch 2/2\n",
      "60000/60000 [==============================] - 150s 2ms/step - loss: 0.0602 - acc: 0.9821 - val_loss: 0.0392 - val_acc: 0.9869\n",
      "Test loss: 0.03919108632341958\n",
      "Test accuracy: 0.9869\n"
     ]
    }
   ],
   "source": [
    "batch_size = 128\n",
    "num_classes = 10\n",
    "epochs = 2\n",
    "\n",
    "model = Sequential()\n",
    "model.add(Conv2D(32, kernel_size=(3, 3),\n",
    "                 activation='relu',\n",
    "                 input_shape=input_shape))\n",
    "model.add(Conv2D(64, (3, 3), activation='relu'))\n",
    "model.add(MaxPooling2D(pool_size=(2, 2)))\n",
    "model.add(Dropout(0.25))\n",
    "model.add(Flatten())\n",
    "model.add(Dense(128, activation='relu'))\n",
    "model.add(Dropout(0.2))\n",
    "model.add(Dense(num_classes, activation='softmax'))\n",
    "\n",
    "model.compile(loss=keras.losses.categorical_crossentropy,\n",
    "              optimizer=keras.optimizers.Adadelta(),\n",
    "              metrics=['accuracy'])\n",
    "\n",
    "history = model.fit(x_train, y_train,\n",
    "          batch_size=batch_size,\n",
    "          epochs=epochs,\n",
    "          verbose=1,\n",
    "          validation_data=(x_test, y_test))\n",
    "score = model.evaluate(x_test, y_test, verbose=0)\n",
    "print('Test loss:', score[0])\n",
    "print('Test accuracy:', score[1])"
   ]
  },
  {
   "cell_type": "code",
   "execution_count": 20,
   "metadata": {},
   "outputs": [
    {
     "data": {
      "image/png": "[encoded data removed]",
      "text/plain": [
       "<Figure size 432x288 with 1 Axes>"
      ]
     },
     "metadata": {},
     "output_type": "display_data"
    }
   ],
   "source": [
    "# Get training and test loss histories\n",
    "training_loss = history.history['loss']\n",
    "test_loss = history.history['val_loss']\n",
    "\n",
    "# Create count of the number of epochs\n",
    "epoch_count = range(1, len(training_loss) + 1)\n",
    "\n",
    "# Visualize loss history\n",
    "plt.plot(epoch_count, training_loss, 'r--')\n",
    "plt.plot(epoch_count, test_loss, 'b-')\n",
    "plt.legend(['Training Loss', 'Test Loss'])\n",
    "plt.xlabel('Epoch')\n",
    "plt.ylabel('Loss')\n",
    "plt.show();"
   ]
  },
  {
   "cell_type": "code",
   "execution_count": 22,
   "metadata": {},
   "outputs": [
    {
     "data": {
      "text/plain": [
       "<matplotlib.image.AxesImage at 0xb2e3fa2b0>"
      ]
     },
     "execution_count": 22,
     "metadata": {},
     "output_type": "execute_result"
    },
    {
     "data": {
      "image/png": "[encoded data removed]",
      "text/plain": [
       "<Figure size 432x288 with 1 Axes>"
      ]
     },
     "metadata": {},
     "output_type": "display_data"
    }
   ],
   "source": [
    "# input image dimensions\n",
    "img_rows, img_cols = 28, 28\n",
    "\n",
    "# the data, shuffled and split between train and test sets\n",
    "(x_train, y_train), (x_test, y_test) = mnist.load_data()\n",
    "\n",
    "mu, sigma = 0, 35\n",
    "noise = np.random.normal(mu, sigma, [28,28]) \n",
    "x_train = x_train - noise\n",
    "x_train[0]\n",
    "plt.imshow(x_train[0])"
   ]
  },
  {
   "cell_type": "code",
   "execution_count": 23,
   "metadata": {},
   "outputs": [
    {
     "name": "stdout",
     "output_type": "stream",
     "text": [
      "Train on 60000 samples, validate on 10000 samples\n",
      "Epoch 1/2\n",
      "60000/60000 [==============================] - 161s 3ms/step - loss: 0.2315 - acc: 0.9286 - val_loss: 0.0537 - val_acc: 0.9820\n",
      "Epoch 2/2\n",
      "60000/60000 [==============================] - 160s 3ms/step - loss: 0.0648 - acc: 0.9800 - val_loss: 0.0412 - val_acc: 0.9857\n",
      "Test loss: 0.04118220631625736\n",
      "Test accuracy: 0.9857\n"
     ]
    }
   ],
   "source": [
    "if backend.image_data_format() == 'channels_first':\n",
    "    x_train = x_train.reshape(x_train.shape[0], 1, img_rows, img_cols)\n",
    "    x_test = x_test.reshape(x_test.shape[0], 1, img_rows, img_cols)\n",
    "    input_shape = (1, img_rows, img_cols)\n",
    "else:\n",
    "    x_train = x_train.reshape(x_train.shape[0], img_rows, img_cols, 1)\n",
    "    x_test = x_test.reshape(x_test.shape[0], img_rows, img_cols, 1)\n",
    "    input_shape = (img_rows, img_cols, 1)\n",
    "\n",
    "x_train = x_train.astype('float32')\n",
    "x_test = x_test.astype('float32')\n",
    "x_train /= 255\n",
    "x_test /= 255\n",
    "\n",
    "# convert class vectors to binary class matrices\n",
    "y_train = keras.utils.to_categorical(y_train, num_classes)\n",
    "y_test = keras.utils.to_categorical(y_test, num_classes)\n",
    "\n",
    "batch_size = 128\n",
    "num_classes = 10\n",
    "epochs = 2\n",
    "\n",
    "model = Sequential()\n",
    "model.add(Conv2D(32, kernel_size=(3, 3),\n",
    "                 activation='relu',\n",
    "                 input_shape=input_shape))\n",
    "model.add(Conv2D(64, (3, 3), activation='relu'))\n",
    "model.add(MaxPooling2D(pool_size=(2, 2)))\n",
    "model.add(Dropout(0.25))\n",
    "model.add(Flatten())\n",
    "model.add(Dense(128, activation='relu'))\n",
    "model.add(Dropout(0.2))\n",
    "model.add(Dense(num_classes, activation='softmax'))\n",
    "\n",
    "model.compile(loss=keras.losses.categorical_crossentropy,\n",
    "              optimizer=keras.optimizers.Adadelta(),\n",
    "              metrics=['accuracy'])\n",
    "\n",
    "history = model.fit(x_train, y_train,\n",
    "          batch_size=batch_size,\n",
    "          epochs=epochs,\n",
    "          verbose=1,\n",
    "          validation_data=(x_test, y_test))\n",
    "score = model.evaluate(x_test, y_test, verbose=0)\n",
    "print('Test loss:', score[0])\n",
    "print('Test accuracy:', score[1])"
   ]
  },
  {
   "cell_type": "code",
   "execution_count": 24,
   "metadata": {},
   "outputs": [
    {
     "data": {
      "image/png": "[encoded data removed]",
      "text/plain": [
       "<Figure size 432x288 with 1 Axes>"
      ]
     },
     "metadata": {},
     "output_type": "display_data"
    }
   ],
   "source": [
    "# Get training and test loss histories\n",
    "training_loss = history.history['loss']\n",
    "test_loss = history.history['val_loss']\n",
    "\n",
    "# Create count of the number of epochs\n",
    "epoch_count = range(1, len(training_loss) + 1)\n",
    "\n",
    "# Visualize loss history\n",
    "plt.plot(epoch_count, training_loss, 'r--')\n",
    "plt.plot(epoch_count, test_loss, 'b-')\n",
    "plt.legend(['Training Loss', 'Test Loss'])\n",
    "plt.xlabel('Epoch')\n",
    "plt.ylabel('Loss')\n",
    "plt.show();"
   ]
  },
  {
   "cell_type": "code",
   "execution_count": 25,
   "metadata": {},
   "outputs": [
    {
     "data": {
      "text/plain": [
       "<matplotlib.image.AxesImage at 0xb356d7eb8>"
      ]
     },
     "execution_count": 25,
     "metadata": {},
     "output_type": "execute_result"
    },
    {
     "data": {
      "image/png": "[encoded data removed]",
      "text/plain": [
       "<Figure size 432x288 with 1 Axes>"
      ]
     },
     "metadata": {},
     "output_type": "display_data"
    }
   ],
   "source": [
    "# input image dimensions\n",
    "img_rows, img_cols = 28, 28\n",
    "\n",
    "# the data, shuffled and split between train and test sets\n",
    "(x_train, y_train), (x_test, y_test) = mnist.load_data()\n",
    "\n",
    "mu, sigma = 0, 85\n",
    "noise = np.random.normal(mu, sigma, [28,28]) \n",
    "x_train = x_train - noise\n",
    "x_train[0]\n",
    "plt.imshow(x_train[0])"
   ]
  },
  {
   "cell_type": "code",
   "execution_count": 26,
   "metadata": {},
   "outputs": [
    {
     "name": "stdout",
     "output_type": "stream",
     "text": [
      "Train on 60000 samples, validate on 10000 samples\n",
      "Epoch 1/8\n",
      "60000/60000 [==============================] - 169s 3ms/step - loss: 0.3801 - acc: 0.8812 - val_loss: 0.0941 - val_acc: 0.9692\n",
      "Epoch 2/8\n",
      "60000/60000 [==============================] - 160s 3ms/step - loss: 0.1280 - acc: 0.9623 - val_loss: 0.0742 - val_acc: 0.9775\n",
      "Epoch 3/8\n",
      "60000/60000 [==============================] - 163s 3ms/step - loss: 0.0966 - acc: 0.9716 - val_loss: 0.0523 - val_acc: 0.9841\n",
      "Epoch 4/8\n",
      "60000/60000 [==============================] - 154s 3ms/step - loss: 0.0792 - acc: 0.9766 - val_loss: 0.0489 - val_acc: 0.9853\n",
      "Epoch 5/8\n",
      "60000/60000 [==============================] - 151s 3ms/step - loss: 0.0707 - acc: 0.9789 - val_loss: 0.0519 - val_acc: 0.9855\n",
      "Epoch 6/8\n",
      "60000/60000 [==============================] - 151s 3ms/step - loss: 0.0620 - acc: 0.9825 - val_loss: 0.0497 - val_acc: 0.9864\n",
      "Epoch 7/8\n",
      "60000/60000 [==============================] - 153s 3ms/step - loss: 0.0560 - acc: 0.9828 - val_loss: 0.0621 - val_acc: 0.9854\n",
      "Epoch 8/8\n",
      "60000/60000 [==============================] - 160s 3ms/step - loss: 0.0534 - acc: 0.9839 - val_loss: 0.0457 - val_acc: 0.9885\n",
      "Test loss: 0.04573370984120675\n",
      "Test accuracy: 0.9885\n"
     ]
    }
   ],
   "source": [
    "if backend.image_data_format() == 'channels_first':\n",
    "    x_train = x_train.reshape(x_train.shape[0], 1, img_rows, img_cols)\n",
    "    x_test = x_test.reshape(x_test.shape[0], 1, img_rows, img_cols)\n",
    "    input_shape = (1, img_rows, img_cols)\n",
    "else:\n",
    "    x_train = x_train.reshape(x_train.shape[0], img_rows, img_cols, 1)\n",
    "    x_test = x_test.reshape(x_test.shape[0], img_rows, img_cols, 1)\n",
    "    input_shape = (img_rows, img_cols, 1)\n",
    "\n",
    "x_train = x_train.astype('float32')\n",
    "x_test = x_test.astype('float32')\n",
    "x_train /= 255\n",
    "x_test /= 255\n",
    "\n",
    "# convert class vectors to binary class matrices\n",
    "y_train = keras.utils.to_categorical(y_train, num_classes)\n",
    "y_test = keras.utils.to_categorical(y_test, num_classes)\n",
    "\n",
    "batch_size = 128\n",
    "num_classes = 10\n",
    "epochs = 8\n",
    "\n",
    "model = Sequential()\n",
    "model.add(Conv2D(32, kernel_size=(3, 3),\n",
    "                 activation='relu',\n",
    "                 input_shape=input_shape))\n",
    "model.add(Conv2D(64, (3, 3), activation='relu'))\n",
    "model.add(MaxPooling2D(pool_size=(2, 2)))\n",
    "model.add(Dropout(0.25))\n",
    "model.add(Flatten())\n",
    "model.add(Dense(128, activation='relu'))\n",
    "model.add(Dropout(0.5))\n",
    "model.add(Dense(num_classes, activation='softmax'))\n",
    "\n",
    "model.compile(loss=keras.losses.categorical_crossentropy,\n",
    "              optimizer=keras.optimizers.Adadelta(),\n",
    "              metrics=['accuracy'])\n",
    "\n",
    "history = model.fit(x_train, y_train,\n",
    "          batch_size=batch_size,\n",
    "          epochs=epochs,\n",
    "          verbose=1,\n",
    "          validation_data=(x_test, y_test))\n",
    "score = model.evaluate(x_test, y_test, verbose=0)\n",
    "print('Test loss:', score[0])\n",
    "print('Test accuracy:', score[1])"
   ]
  },
  {
   "cell_type": "code",
   "execution_count": 27,
   "metadata": {},
   "outputs": [
    {
     "data": {
      "image/png": "[encoded data removed]",
      "text/plain": [
       "<Figure size 432x288 with 1 Axes>"
      ]
     },
     "metadata": {},
     "output_type": "display_data"
    }
   ],
   "source": [
    "# Get training and test loss histories\n",
    "training_loss = history.history['loss']\n",
    "test_loss = history.history['val_loss']\n",
    "\n",
    "# Create count of the number of epochs\n",
    "epoch_count = range(1, len(training_loss) + 1)\n",
    "\n",
    "# Visualize loss history\n",
    "plt.plot(epoch_count, training_loss, 'r--')\n",
    "plt.plot(epoch_count, test_loss, 'b-')\n",
    "plt.legend(['Training Loss', 'Test Loss'])\n",
    "plt.xlabel('Epoch')\n",
    "plt.ylabel('Loss')\n",
    "plt.show();"
   ]
  }
 ],
 "metadata": {
  "kernelspec": {
   "display_name": "Python 3",
   "language": "python",
   "name": "python3"
  },
  "language_info": {
   "codemirror_mode": {
    "name": "ipython",
    "version": 3
   },
   "file_extension": ".py",
   "mimetype": "text/x-python",
   "name": "python",
   "nbconvert_exporter": "python",
   "pygments_lexer": "ipython3",
   "version": "3.6.5"
  }
 },
 "nbformat": 4,
 "nbformat_minor": 2
}
